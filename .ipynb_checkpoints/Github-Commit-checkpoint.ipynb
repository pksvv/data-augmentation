{
 "cells": [
  {
   "cell_type": "code",
   "execution_count": 22,
   "metadata": {},
   "outputs": [],
   "source": [
    "import os\n",
    "if os.path.exists('output.txt'):\n",
    "    os.system('rm output.txt')\n",
    "    os.system('git add --all')\n",
    "    os.system('git commit -m \"Updates\"')\n",
    "    os.system('git push -u origin master')"
   ]
  },
  {
   "cell_type": "code",
   "execution_count": 23,
   "metadata": {},
   "outputs": [
    {
     "name": "stdout",
     "output_type": "stream",
     "text": [
      "Writing output.txt\n"
     ]
    }
   ],
   "source": [
    "%%writefile output.txt\n",
    "\n",
    "abcd\n",
    "sdwemdw\n",
    "dwedw"
   ]
  },
  {
   "cell_type": "code",
   "execution_count": 24,
   "metadata": {},
   "outputs": [
    {
     "data": {
      "text/plain": [
       "0"
      ]
     },
     "execution_count": 24,
     "metadata": {},
     "output_type": "execute_result"
    }
   ],
   "source": [
    "os.system('git add --all')\n",
    "os.system('git commit -m \"Updates\"')\n",
    "os.system('git push -u origin master')"
   ]
  },
  {
   "cell_type": "code",
   "execution_count": 1,
   "metadata": {},
   "outputs": [],
   "source": [
    "import os\n",
    "for i in range(10):\n",
    "    if os.path.exists('output.txt'):\n",
    "        os.system('rm output.txt')\n",
    "        os.system('git add --all')\n",
    "        os.system('git commit -m \"Updates\"')\n",
    "        os.system('git push -u origin master')\n",
    "\n",
    "    f = open(\"output.txt\", \"a\")\n",
    "    f.write(\"Now the file has more content!\")\n",
    "    f.close()\n",
    "\n",
    "    os.system('git add --all')\n",
    "    os.system('git commit -m \"Updates\"')\n",
    "    os.system('git push -u origin master')"
   ]
  },
  {
   "cell_type": "code",
   "execution_count": null,
   "metadata": {},
   "outputs": [],
   "source": [
    "USER='AUSER'\n",
    "API_TOKEN='ATOKEN'\n",
    "GIT_API_URL='https://api.github.com'\n",
    "\n",
    "def get_api(url):\n",
    "    try:\n",
    "        request = urllib2.Request(GIT_API_URL + url)\n",
    "        base64string = base64.encodestring('%s/token:%s' % (USER, API_TOKEN)).replace('\\n', '')\n",
    "        request.add_header(\"Authorization\", \"Basic %s\" % base64string)\n",
    "        result = urllib2.urlopen(request)\n",
    "        result.close()\n",
    "    except:\n",
    "        print 'Failed to get api request from %s' % url"
   ]
  }
 ],
 "metadata": {
  "kernelspec": {
   "display_name": "Python 3",
   "language": "python",
   "name": "python3"
  },
  "language_info": {
   "codemirror_mode": {
    "name": "ipython",
    "version": 3
   },
   "file_extension": ".py",
   "mimetype": "text/x-python",
   "name": "python",
   "nbconvert_exporter": "python",
   "pygments_lexer": "ipython3",
   "version": "3.7.4"
  }
 },
 "nbformat": 4,
 "nbformat_minor": 2
}
